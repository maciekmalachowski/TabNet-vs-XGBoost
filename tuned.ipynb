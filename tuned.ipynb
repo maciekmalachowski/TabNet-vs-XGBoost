{
 "cells": [
  {
   "cell_type": "code",
   "execution_count": 272,
   "metadata": {},
   "outputs": [],
   "source": [
    "import numpy as np\n",
    "import pandas as pd\n",
    "from sklearn.model_selection import train_test_split\n",
    "from sklearn.datasets import make_classification, make_regression\n",
    "from sklearn.metrics import accuracy_score, root_mean_squared_error\n",
    "from pytorch_tabnet.tab_model import TabNetClassifier, TabNetRegressor\n",
    "import xgboost as xgb"
   ]
  },
  {
   "cell_type": "code",
   "execution_count": 273,
   "metadata": {},
   "outputs": [],
   "source": [
    "def compare_classification(X_train, y_train, X_valid, y_valid, X_test, y_test, num_classes):\n",
    "    if num_classes == 2:\n",
    "        clf_tabnet = TabNetClassifier(optimizer_params=dict(lr=0.09), verbose=0)\n",
    "        clf_xgboost = xgb.XGBClassifier(n_estimators=1000, eval_metric=\"logloss\", early_stopping_rounds=30, learning_rate=0.05)\n",
    "        type = \"Binary Classification\"\n",
    "    else:\n",
    "        clf_tabnet = TabNetClassifier(optimizer_params=dict(lr=0.09), verbose=0)\n",
    "        clf_xgboost = xgb.XGBClassifier(n_estimators=1000, eval_metric=\"mlogloss\", early_stopping_rounds=30, learning_rate=0.05)\n",
    "        type = \"Multiclass Classification\"\n",
    "\n",
    "\n",
    "    clf_tabnet.fit(\n",
    "        X_train, y_train,\n",
    "        eval_set=[(X_valid, y_valid)],\n",
    "        eval_metric=[\"accuracy\"],\n",
    "        max_epochs=100,\n",
    "        patience=30\n",
    "    )\n",
    "\n",
    "    clf_xgboost.fit(\n",
    "        X_train, y_train,\n",
    "        eval_set=[(X_valid, y_valid)],\n",
    "        verbose=False\n",
    "    )\n",
    "\n",
    "    pred_tabnet = clf_tabnet.predict(X_test)\n",
    "    pred_xgboost = clf_xgboost.predict(X_test)\n",
    "\n",
    "    accuracy_tabnet = accuracy_score(y_test, pred_tabnet)\n",
    "    accuracy_xgboost = accuracy_score(y_test, pred_xgboost)\n",
    "\n",
    "    print(f\"\\n === {type} ===\\n\")\n",
    "    print(f\"TabNet Accuracy with max epochs, patience, eval_metric: {accuracy_tabnet}\\n\")\n",
    "    print(f\"XGBoost Accuracy with max epochs, patience, eval_metric: {accuracy_xgboost}\\n\")"
   ]
  },
  {
   "cell_type": "code",
   "execution_count": 274,
   "metadata": {},
   "outputs": [],
   "source": [
    "def compare_regression(X_train, y_train, X_valid, y_valid, X_test, y_test):\n",
    "    reg_tabnet = TabNetRegressor(optimizer_params=dict(lr=0.09), verbose=0)\n",
    "    reg_xgboost = xgb.XGBRegressor(n_estimators=1000, eval_metric=\"rmse\", early_stopping_rounds=30, learning_rate=0.05)\n",
    "    y_train = y_train.reshape(-1, 1)\n",
    "    y_valid = y_valid.reshape(-1, 1)\n",
    "\n",
    "    reg_tabnet.fit(\n",
    "        X_train, y_train,\n",
    "        eval_set=[(X_valid, y_valid)],\n",
    "        eval_metric=[\"rmse\"],\n",
    "        max_epochs=100,\n",
    "        patience=30\n",
    "    )\n",
    "\n",
    "    reg_xgboost.fit(\n",
    "        X_train, y_train,\n",
    "        eval_set=[(X_valid, y_valid)],\n",
    "        verbose=False\n",
    "    )\n",
    "\n",
    "    pred_tabnet = reg_tabnet.predict(X_test)\n",
    "    pred_xgboost = reg_xgboost.predict(X_test)\n",
    "\n",
    "    rmse_tabnet = root_mean_squared_error(y_test, pred_tabnet)\n",
    "    rmse_xgboost = root_mean_squared_error(y_test, pred_xgboost)\n",
    "\n",
    "    print(\"\\n=== Regression ===\\n\")\n",
    "    print(f\"TabNet RMSE with max epochs, patience, eval_metric: {rmse_tabnet}\\n\")\n",
    "    print(f\"XGBoost RMSE with max epochs, patience, eval_metric: {rmse_xgboost}\\n\")\n"
   ]
  },
  {
   "cell_type": "code",
   "execution_count": 275,
   "metadata": {},
   "outputs": [],
   "source": [
    "# syntetic data for BINARY CLASSIFICATION\n",
    "X_binary, y_binary = make_classification(n_samples=10000, n_features=100, n_informative=8, n_classes=2, random_state=42)\n",
    "X_train_bin, X_temp_bin, y_train_bin, y_temp_bin = train_test_split(X_binary, y_binary, test_size=0.3, random_state=42)\n",
    "X_valid_bin, X_test_bin, y_valid_bin, y_test_bin = train_test_split(X_temp_bin, y_temp_bin, test_size=0.5, random_state=42)"
   ]
  },
  {
   "cell_type": "code",
   "execution_count": 276,
   "metadata": {},
   "outputs": [],
   "source": [
    "# syntetic data for MULTICLASS CLASSIFICATION\n",
    "X_multi, y_multi = make_classification(n_samples=10000, n_features=100, n_informative=8, n_classes=3, n_clusters_per_class=1, random_state=42)\n",
    "X_train_multi, X_temp_multi, y_train_multi, y_temp_multi = train_test_split(X_multi, y_multi, test_size=0.3, random_state=42)\n",
    "X_valid_multi, X_test_multi, y_valid_multi, y_test_multi = train_test_split(X_temp_multi, y_temp_multi, test_size=0.5, random_state=42)"
   ]
  },
  {
   "cell_type": "code",
   "execution_count": 277,
   "metadata": {},
   "outputs": [],
   "source": [
    "# syntetic data for REGRESSION\n",
    "X_reg, y_reg = make_regression(n_samples=10000, n_features=100, n_informative=8, noise=0.1, random_state=42)\n",
    "X_train_reg, X_temp_reg, y_train_reg, y_temp_reg = train_test_split(X_reg, y_reg, test_size=0.3, random_state=42)\n",
    "X_valid_reg, X_test_reg, y_valid_reg, y_test_reg = train_test_split(X_temp_reg, y_temp_reg, test_size=0.5, random_state=42)"
   ]
  },
  {
   "cell_type": "code",
   "execution_count": 278,
   "metadata": {},
   "outputs": [
    {
     "name": "stdout",
     "output_type": "stream",
     "text": [
      "\n",
      "Early stopping occurred at epoch 99 with best_epoch = 69 and best_val_0_accuracy = 0.95733\n"
     ]
    },
    {
     "name": "stderr",
     "output_type": "stream",
     "text": [
      "c:\\Users\\Maciek\\miniconda3\\Lib\\site-packages\\pytorch_tabnet\\callbacks.py:172: UserWarning: Best weights from best epoch are automatically used!\n",
      "  warnings.warn(wrn_msg)\n"
     ]
    },
    {
     "name": "stdout",
     "output_type": "stream",
     "text": [
      "\n",
      " === Binary Classification ===\n",
      "\n",
      "TabNet Accuracy with max epochs, patience, eval_metric: 0.9593333333333334\n",
      "\n",
      "XGBoost Accuracy with max epochs, patience, eval_metric: 0.92\n",
      "\n"
     ]
    }
   ],
   "source": [
    "# Binary Classification\n",
    "compare_classification(X_train_bin, y_train_bin, X_valid_bin, y_valid_bin, X_test_bin, y_test_bin, 2)"
   ]
  },
  {
   "cell_type": "code",
   "execution_count": 279,
   "metadata": {},
   "outputs": [
    {
     "name": "stdout",
     "output_type": "stream",
     "text": [
      "\n",
      "Early stopping occurred at epoch 90 with best_epoch = 60 and best_val_0_accuracy = 0.96933\n"
     ]
    },
    {
     "name": "stderr",
     "output_type": "stream",
     "text": [
      "c:\\Users\\Maciek\\miniconda3\\Lib\\site-packages\\pytorch_tabnet\\callbacks.py:172: UserWarning: Best weights from best epoch are automatically used!\n",
      "  warnings.warn(wrn_msg)\n"
     ]
    },
    {
     "name": "stdout",
     "output_type": "stream",
     "text": [
      "\n",
      " === Multiclass Classification ===\n",
      "\n",
      "TabNet Accuracy with max epochs, patience, eval_metric: 0.9646666666666667\n",
      "\n",
      "XGBoost Accuracy with max epochs, patience, eval_metric: 0.9386666666666666\n",
      "\n"
     ]
    }
   ],
   "source": [
    "# MultiClass Classification\n",
    "compare_classification(X_train_multi, y_train_multi, X_valid_multi, y_valid_multi, X_test_multi, y_test_multi, 3)"
   ]
  },
  {
   "cell_type": "code",
   "execution_count": 280,
   "metadata": {},
   "outputs": [
    {
     "name": "stdout",
     "output_type": "stream",
     "text": [
      "\n",
      "Early stopping occurred at epoch 83 with best_epoch = 53 and best_val_0_rmse = 8.46689\n"
     ]
    },
    {
     "name": "stderr",
     "output_type": "stream",
     "text": [
      "c:\\Users\\Maciek\\miniconda3\\Lib\\site-packages\\pytorch_tabnet\\callbacks.py:172: UserWarning: Best weights from best epoch are automatically used!\n",
      "  warnings.warn(wrn_msg)\n"
     ]
    },
    {
     "name": "stdout",
     "output_type": "stream",
     "text": [
      "\n",
      "=== Regression ===\n",
      "\n",
      "TabNet RMSE with max epochs, patience, eval_metric: 8.483128545126485\n",
      "\n",
      "XGBoost RMSE with max epochs, patience, eval_metric: 31.17581323797507\n",
      "\n"
     ]
    }
   ],
   "source": [
    "# Regression\n",
    "compare_regression(X_train_reg, y_train_reg, X_valid_reg, y_valid_reg, X_test_reg, y_test_reg)"
   ]
  }
 ],
 "metadata": {
  "kernelspec": {
   "display_name": "base",
   "language": "python",
   "name": "python3"
  },
  "language_info": {
   "codemirror_mode": {
    "name": "ipython",
    "version": 3
   },
   "file_extension": ".py",
   "mimetype": "text/x-python",
   "name": "python",
   "nbconvert_exporter": "python",
   "pygments_lexer": "ipython3",
   "version": "3.12.3"
  }
 },
 "nbformat": 4,
 "nbformat_minor": 2
}
