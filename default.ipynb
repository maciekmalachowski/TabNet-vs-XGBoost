{
 "cells": [
  {
   "cell_type": "code",
   "execution_count": 10,
   "metadata": {},
   "outputs": [],
   "source": [
    "import numpy as np\n",
    "import pandas as pd\n",
    "from sklearn.model_selection import train_test_split\n",
    "from sklearn.datasets import make_classification, make_regression\n",
    "from sklearn.metrics import accuracy_score, root_mean_squared_error\n",
    "from pytorch_tabnet.tab_model import TabNetClassifier, TabNetRegressor\n",
    "import xgboost as xgb"
   ]
  },
  {
   "cell_type": "code",
   "execution_count": 11,
   "metadata": {},
   "outputs": [],
   "source": [
    "def compare_classification(X_train, y_train, X_valid, y_valid, X_test, y_test, num_classes):\n",
    "    if num_classes == 2:\n",
    "        clf_tabnet_vanila = TabNetClassifier(verbose=0)\n",
    "        clf_xgboost_vanila = xgb.XGBClassifier()\n",
    "        type = \"Binary Classification\"\n",
    "    else:\n",
    "        clf_tabnet_vanila = TabNetClassifier(verbose=0)\n",
    "        clf_xgboost_vanila = xgb.XGBClassifier()\n",
    "        type = \"Multiclass Classification\"\n",
    "\n",
    "\n",
    "    clf_tabnet_vanila.fit(\n",
    "        X_train, y_train,\n",
    "        eval_set=[(X_valid, y_valid)],\n",
    "    )\n",
    "\n",
    "    clf_xgboost_vanila.fit(\n",
    "        X_train, y_train,\n",
    "        eval_set=[(X_valid, y_valid)],\n",
    "        verbose=False\n",
    "    )\n",
    "\n",
    "    pred_tabnet = clf_tabnet_vanila.predict(X_test)\n",
    "    pred_xgboost = clf_xgboost_vanila.predict(X_test)\n",
    "\n",
    "    accuracy_tabnet = accuracy_score(y_test, pred_tabnet)\n",
    "    accuracy_xgboost = accuracy_score(y_test, pred_xgboost)\n",
    "\n",
    "    print(f\"\\n === {type} ===\\n\")\n",
    "    print(f\"TabNet Accuracy with vanilla parameters: {accuracy_tabnet}\\n\")\n",
    "    print(f\"XGBoost Accuracy with vanilla parameters: {accuracy_xgboost}\\n\")"
   ]
  },
  {
   "cell_type": "code",
   "execution_count": 12,
   "metadata": {},
   "outputs": [],
   "source": [
    "def compare_regression(X_train, y_train, X_valid, y_valid, X_test, y_test):\n",
    "    reg_tabnet_vanila = TabNetRegressor(verbose=0)\n",
    "    reg_xgboost_vanila = xgb.XGBRegressor()\n",
    "    y_train = y_train.reshape(-1, 1)\n",
    "    y_valid = y_valid.reshape(-1, 1)\n",
    "\n",
    "    reg_tabnet_vanila.fit(\n",
    "        X_train, y_train,\n",
    "        eval_set=[(X_valid, y_valid)],\n",
    "    )\n",
    "\n",
    "    reg_xgboost_vanila.fit(\n",
    "        X_train, y_train,\n",
    "        eval_set=[(X_valid, y_valid)],\n",
    "        verbose=False\n",
    "    )\n",
    "\n",
    "    pred_tabnet = reg_tabnet_vanila.predict(X_test)\n",
    "    pred_xgboost = reg_xgboost_vanila.predict(X_test)\n",
    "\n",
    "    mse_tabnet = root_mean_squared_error(y_test, pred_tabnet)\n",
    "    mse_xgboost = root_mean_squared_error(y_test, pred_xgboost)\n",
    "\n",
    "    print(\"\\n=== Regression ===\\n\")\n",
    "    print(f\"TabNet RMSE with vanilla parameters: {mse_tabnet}\\n\")\n",
    "    print(f\"XGBoost RMSE with vanilla parameters: {mse_xgboost}\\n\")\n"
   ]
  },
  {
   "cell_type": "code",
   "execution_count": 13,
   "metadata": {},
   "outputs": [],
   "source": [
    "# syntetic data for BINARY CLASSIFICATION\n",
    "X_binary, y_binary = make_classification(n_samples=10000, n_features=100, n_informative=8, n_classes=2, random_state=42)\n",
    "X_train_bin, X_temp_bin, y_train_bin, y_temp_bin = train_test_split(X_binary, y_binary, test_size=0.3, random_state=42)\n",
    "X_valid_bin, X_test_bin, y_valid_bin, y_test_bin = train_test_split(X_temp_bin, y_temp_bin, test_size=0.5, random_state=42)"
   ]
  },
  {
   "cell_type": "code",
   "execution_count": 14,
   "metadata": {},
   "outputs": [],
   "source": [
    "# syntetic data for MULTICLASS CLASSIFICATION\n",
    "X_multi, y_multi = make_classification(n_samples=10000, n_features=100, n_informative=8, n_classes=3, n_clusters_per_class=1, random_state=42)\n",
    "X_train_multi, X_temp_multi, y_train_multi, y_temp_multi = train_test_split(X_multi, y_multi, test_size=0.3, random_state=42)\n",
    "X_valid_multi, X_test_multi, y_valid_multi, y_test_multi = train_test_split(X_temp_multi, y_temp_multi, test_size=0.5, random_state=42)"
   ]
  },
  {
   "cell_type": "code",
   "execution_count": 15,
   "metadata": {},
   "outputs": [],
   "source": [
    "# syntetic data for REGRESSION\n",
    "X_reg, y_reg = make_regression(n_samples=10000, n_features=100, n_informative=8, noise=0.1, random_state=42)\n",
    "X_train_reg, X_temp_reg, y_train_reg, y_temp_reg = train_test_split(X_reg, y_reg, test_size=0.3, random_state=42)\n",
    "X_valid_reg, X_test_reg, y_valid_reg, y_test_reg = train_test_split(X_temp_reg, y_temp_reg, test_size=0.5, random_state=42)"
   ]
  },
  {
   "cell_type": "code",
   "execution_count": 16,
   "metadata": {},
   "outputs": [
    {
     "name": "stdout",
     "output_type": "stream",
     "text": [
      "\n",
      "Early stopping occurred at epoch 79 with best_epoch = 69 and best_val_0_auc = 0.95724\n"
     ]
    },
    {
     "name": "stderr",
     "output_type": "stream",
     "text": [
      "c:\\Users\\Maciek\\miniconda3\\Lib\\site-packages\\pytorch_tabnet\\callbacks.py:172: UserWarning: Best weights from best epoch are automatically used!\n",
      "  warnings.warn(wrn_msg)\n"
     ]
    },
    {
     "name": "stdout",
     "output_type": "stream",
     "text": [
      "\n",
      " === Binary Classification ===\n",
      "\n",
      "TabNet Accuracy with vanilla parameters: 0.896\n",
      "\n",
      "XGBoost Accuracy with vanilla parameters: 0.912\n",
      "\n"
     ]
    }
   ],
   "source": [
    "# Binary Classification\n",
    "compare_classification(X_train_bin, y_train_bin, X_valid_bin, y_valid_bin, X_test_bin, y_test_bin, 2)"
   ]
  },
  {
   "cell_type": "code",
   "execution_count": 17,
   "metadata": {},
   "outputs": [
    {
     "name": "stdout",
     "output_type": "stream",
     "text": [
      "\n",
      "Early stopping occurred at epoch 90 with best_epoch = 80 and best_val_0_accuracy = 0.91733\n"
     ]
    },
    {
     "name": "stderr",
     "output_type": "stream",
     "text": [
      "c:\\Users\\Maciek\\miniconda3\\Lib\\site-packages\\pytorch_tabnet\\callbacks.py:172: UserWarning: Best weights from best epoch are automatically used!\n",
      "  warnings.warn(wrn_msg)\n"
     ]
    },
    {
     "name": "stdout",
     "output_type": "stream",
     "text": [
      "\n",
      " === Multiclass Classification ===\n",
      "\n",
      "TabNet Accuracy with vanilla parameters: 0.928\n",
      "\n",
      "XGBoost Accuracy with vanilla parameters: 0.944\n",
      "\n"
     ]
    }
   ],
   "source": [
    "# MultiClass Classification\n",
    "compare_classification(X_train_multi, y_train_multi, X_valid_multi, y_valid_multi, X_test_multi, y_test_multi, 3)"
   ]
  },
  {
   "cell_type": "code",
   "execution_count": 18,
   "metadata": {},
   "outputs": [
    {
     "name": "stdout",
     "output_type": "stream",
     "text": [
      "\n",
      "Early stopping occurred at epoch 69 with best_epoch = 59 and best_val_0_mse = 101.57551\n"
     ]
    },
    {
     "name": "stderr",
     "output_type": "stream",
     "text": [
      "c:\\Users\\Maciek\\miniconda3\\Lib\\site-packages\\pytorch_tabnet\\callbacks.py:172: UserWarning: Best weights from best epoch are automatically used!\n",
      "  warnings.warn(wrn_msg)\n"
     ]
    },
    {
     "name": "stdout",
     "output_type": "stream",
     "text": [
      "\n",
      "=== Regression ===\n",
      "\n",
      "TabNet RMSE with vanilla parameters: 11.138994901732492\n",
      "\n",
      "XGBoost RMSE with vanilla parameters: 43.010909116965536\n",
      "\n"
     ]
    }
   ],
   "source": [
    "# Regression\n",
    "compare_regression(X_train_reg, y_train_reg, X_valid_reg, y_valid_reg, X_test_reg, y_test_reg)"
   ]
  }
 ],
 "metadata": {
  "kernelspec": {
   "display_name": "base",
   "language": "python",
   "name": "python3"
  },
  "language_info": {
   "codemirror_mode": {
    "name": "ipython",
    "version": 3
   },
   "file_extension": ".py",
   "mimetype": "text/x-python",
   "name": "python",
   "nbconvert_exporter": "python",
   "pygments_lexer": "ipython3",
   "version": "3.12.3"
  }
 },
 "nbformat": 4,
 "nbformat_minor": 2
}
